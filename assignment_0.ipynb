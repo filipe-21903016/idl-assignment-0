{
 "cells": [
  {
   "cell_type": "markdown",
   "metadata": {},
   "source": [
    "# Assignment 0"
   ]
  },
  {
   "cell_type": "code",
   "execution_count": 82,
   "metadata": {},
   "outputs": [],
   "source": [
    "import pandas as pd\n",
    "import numpy as np\n",
    "from numpy import linalg as LNG"
   ]
  },
  {
   "cell_type": "code",
   "execution_count": 83,
   "metadata": {},
   "outputs": [],
   "source": [
    "# Training inputs (image as vector)\n",
    "X_train = pd.read_csv(\"data/train_in.csv\").to_numpy()\n",
    "\n",
    "# Training outputs (number that each vector represents)\n",
    "Y_train = pd.read_csv(\"data/train_out.csv\").to_numpy()\n",
    "\n",
    "X_test = pd.read_csv(\"data/test_in.csv\").to_numpy()\n",
    "Y_test = pd.read_csv(\"data/test_out.csv\").to_numpy()"
   ]
  },
  {
   "cell_type": "markdown",
   "metadata": {},
   "source": [
    "## Calculating the center for each cloud c_d"
   ]
  },
  {
   "cell_type": "code",
   "execution_count": 84,
   "metadata": {},
   "outputs": [],
   "source": [
    "# Stores calculated centers\n",
    "# Label corresponds to index, eg. Center_0 = clouds[0]\n",
    "cloud_centers = []\n",
    "\n",
    "for d in range(10):\n",
    "    # Finding all the indexes from Y_train_out related to the current d in loop\n",
    "    d_indices = np.where(Y_train == d)[0]\n",
    "\n",
    "    # cloud_d is an array of all images related to the current d\n",
    "    cloud_d = X_train[d_indices]\n",
    "\n",
    "    # Calculating the mean of each cloud\n",
    "    center_d = np.mean(cloud_d, axis=0)\n",
    "\n",
    "    # add each mean vector to clouds\n",
    "    cloud_centers.append(center_d)"
   ]
  },
  {
   "cell_type": "markdown",
   "metadata": {},
   "source": [
    "## Calculating center distances for each digit/label"
   ]
  },
  {
   "cell_type": "code",
   "execution_count": 85,
   "metadata": {},
   "outputs": [],
   "source": [
    "distances_matrix = np.full((10,10), np.NaN)\n",
    "\n",
    "for row_index in range(0,10):\n",
    "    for column_index in range(0,10):\n",
    "        if column_index == row_index or not np.isnan(distances_matrix[column_index, row_index]):\n",
    "            continue\n",
    "        distances_matrix[row_index, column_index] = LNG.norm(cloud_centers[row_index] - cloud_centers[column_index])"
   ]
  },
  {
   "cell_type": "code",
   "execution_count": 86,
   "metadata": {},
   "outputs": [
    {
     "data": {
      "text/html": [
       "<div>\n",
       "<style scoped>\n",
       "    .dataframe tbody tr th:only-of-type {\n",
       "        vertical-align: middle;\n",
       "    }\n",
       "\n",
       "    .dataframe tbody tr th {\n",
       "        vertical-align: top;\n",
       "    }\n",
       "\n",
       "    .dataframe thead th {\n",
       "        text-align: right;\n",
       "    }\n",
       "</style>\n",
       "<table border=\"1\" class=\"dataframe\">\n",
       "  <thead>\n",
       "    <tr style=\"text-align: right;\">\n",
       "      <th></th>\n",
       "      <th>0</th>\n",
       "      <th>1</th>\n",
       "      <th>2</th>\n",
       "      <th>3</th>\n",
       "      <th>4</th>\n",
       "      <th>5</th>\n",
       "      <th>6</th>\n",
       "      <th>7</th>\n",
       "      <th>8</th>\n",
       "      <th>9</th>\n",
       "    </tr>\n",
       "  </thead>\n",
       "  <tbody>\n",
       "    <tr>\n",
       "      <th>0</th>\n",
       "      <td>NaN</td>\n",
       "      <td>14.449608</td>\n",
       "      <td>9.334556</td>\n",
       "      <td>9.143734</td>\n",
       "      <td>10.769844</td>\n",
       "      <td>7.519296</td>\n",
       "      <td>8.163019</td>\n",
       "      <td>11.864555</td>\n",
       "      <td>9.907902</td>\n",
       "      <td>11.488875</td>\n",
       "    </tr>\n",
       "    <tr>\n",
       "      <th>1</th>\n",
       "      <td>NaN</td>\n",
       "      <td>NaN</td>\n",
       "      <td>10.125323</td>\n",
       "      <td>11.733233</td>\n",
       "      <td>10.173786</td>\n",
       "      <td>11.118800</td>\n",
       "      <td>10.597933</td>\n",
       "      <td>10.743154</td>\n",
       "      <td>10.086777</td>\n",
       "      <td>9.932094</td>\n",
       "    </tr>\n",
       "    <tr>\n",
       "      <th>2</th>\n",
       "      <td>NaN</td>\n",
       "      <td>NaN</td>\n",
       "      <td>NaN</td>\n",
       "      <td>8.178285</td>\n",
       "      <td>7.932541</td>\n",
       "      <td>7.906796</td>\n",
       "      <td>7.317952</td>\n",
       "      <td>8.872531</td>\n",
       "      <td>7.077516</td>\n",
       "      <td>8.887748</td>\n",
       "    </tr>\n",
       "    <tr>\n",
       "      <th>3</th>\n",
       "      <td>NaN</td>\n",
       "      <td>NaN</td>\n",
       "      <td>NaN</td>\n",
       "      <td>NaN</td>\n",
       "      <td>9.087608</td>\n",
       "      <td>6.118750</td>\n",
       "      <td>9.292426</td>\n",
       "      <td>8.922401</td>\n",
       "      <td>7.020425</td>\n",
       "      <td>8.354350</td>\n",
       "    </tr>\n",
       "    <tr>\n",
       "      <th>4</th>\n",
       "      <td>NaN</td>\n",
       "      <td>NaN</td>\n",
       "      <td>NaN</td>\n",
       "      <td>NaN</td>\n",
       "      <td>NaN</td>\n",
       "      <td>8.001517</td>\n",
       "      <td>8.765997</td>\n",
       "      <td>7.583012</td>\n",
       "      <td>7.380909</td>\n",
       "      <td>6.010408</td>\n",
       "    </tr>\n",
       "    <tr>\n",
       "      <th>5</th>\n",
       "      <td>NaN</td>\n",
       "      <td>NaN</td>\n",
       "      <td>NaN</td>\n",
       "      <td>NaN</td>\n",
       "      <td>NaN</td>\n",
       "      <td>NaN</td>\n",
       "      <td>6.688629</td>\n",
       "      <td>9.211954</td>\n",
       "      <td>6.967386</td>\n",
       "      <td>8.258538</td>\n",
       "    </tr>\n",
       "    <tr>\n",
       "      <th>6</th>\n",
       "      <td>NaN</td>\n",
       "      <td>NaN</td>\n",
       "      <td>NaN</td>\n",
       "      <td>NaN</td>\n",
       "      <td>NaN</td>\n",
       "      <td>NaN</td>\n",
       "      <td>NaN</td>\n",
       "      <td>10.868157</td>\n",
       "      <td>8.570208</td>\n",
       "      <td>10.419744</td>\n",
       "    </tr>\n",
       "    <tr>\n",
       "      <th>7</th>\n",
       "      <td>NaN</td>\n",
       "      <td>NaN</td>\n",
       "      <td>NaN</td>\n",
       "      <td>NaN</td>\n",
       "      <td>NaN</td>\n",
       "      <td>NaN</td>\n",
       "      <td>NaN</td>\n",
       "      <td>NaN</td>\n",
       "      <td>8.467785</td>\n",
       "      <td>5.426474</td>\n",
       "    </tr>\n",
       "    <tr>\n",
       "      <th>8</th>\n",
       "      <td>NaN</td>\n",
       "      <td>NaN</td>\n",
       "      <td>NaN</td>\n",
       "      <td>NaN</td>\n",
       "      <td>NaN</td>\n",
       "      <td>NaN</td>\n",
       "      <td>NaN</td>\n",
       "      <td>NaN</td>\n",
       "      <td>NaN</td>\n",
       "      <td>6.401166</td>\n",
       "    </tr>\n",
       "    <tr>\n",
       "      <th>9</th>\n",
       "      <td>NaN</td>\n",
       "      <td>NaN</td>\n",
       "      <td>NaN</td>\n",
       "      <td>NaN</td>\n",
       "      <td>NaN</td>\n",
       "      <td>NaN</td>\n",
       "      <td>NaN</td>\n",
       "      <td>NaN</td>\n",
       "      <td>NaN</td>\n",
       "      <td>NaN</td>\n",
       "    </tr>\n",
       "  </tbody>\n",
       "</table>\n",
       "</div>"
      ],
      "text/plain": [
       "    0          1          2          3          4          5          6  \\\n",
       "0 NaN  14.449608   9.334556   9.143734  10.769844   7.519296   8.163019   \n",
       "1 NaN        NaN  10.125323  11.733233  10.173786  11.118800  10.597933   \n",
       "2 NaN        NaN        NaN   8.178285   7.932541   7.906796   7.317952   \n",
       "3 NaN        NaN        NaN        NaN   9.087608   6.118750   9.292426   \n",
       "4 NaN        NaN        NaN        NaN        NaN   8.001517   8.765997   \n",
       "5 NaN        NaN        NaN        NaN        NaN        NaN   6.688629   \n",
       "6 NaN        NaN        NaN        NaN        NaN        NaN        NaN   \n",
       "7 NaN        NaN        NaN        NaN        NaN        NaN        NaN   \n",
       "8 NaN        NaN        NaN        NaN        NaN        NaN        NaN   \n",
       "9 NaN        NaN        NaN        NaN        NaN        NaN        NaN   \n",
       "\n",
       "           7          8          9  \n",
       "0  11.864555   9.907902  11.488875  \n",
       "1  10.743154  10.086777   9.932094  \n",
       "2   8.872531   7.077516   8.887748  \n",
       "3   8.922401   7.020425   8.354350  \n",
       "4   7.583012   7.380909   6.010408  \n",
       "5   9.211954   6.967386   8.258538  \n",
       "6  10.868157   8.570208  10.419744  \n",
       "7        NaN   8.467785   5.426474  \n",
       "8        NaN        NaN   6.401166  \n",
       "9        NaN        NaN        NaN  "
      ]
     },
     "execution_count": 86,
     "metadata": {},
     "output_type": "execute_result"
    }
   ],
   "source": [
    "pd.DataFrame(distances_matrix)"
   ]
  },
  {
   "cell_type": "markdown",
   "metadata": {},
   "source": [
    "## Classificating new vectors"
   ]
  },
  {
   "cell_type": "code",
   "execution_count": 87,
   "metadata": {},
   "outputs": [],
   "source": [
    "def classify(new_vector):\n",
    "    distances_to_clouds = [LNG.norm(new_vector-center) for center in cloud_centers]\n",
    "\n",
    "    # Returns the label for the first closest cloud\n",
    "    return np.argmin(distances_to_clouds)"
   ]
  },
  {
   "cell_type": "markdown",
   "metadata": {},
   "source": [
    "## Running model on test set to check accuracy"
   ]
  },
  {
   "cell_type": "code",
   "execution_count": 96,
   "metadata": {},
   "outputs": [
    {
     "name": "stdout",
     "output_type": "stream",
     "text": [
      "Accuracy: 80.38038038038037%\n"
     ]
    }
   ],
   "source": [
    "correct = 0\n",
    "\n",
    "for x_test, y_test in zip(X_test, Y_test):\n",
    "    # feed input to model\n",
    "    y_predict = classify(x_test)\n",
    "\n",
    "    if y_predict == y_test:\n",
    "        correct+=1\n",
    "\n",
    "accuracy = correct / X_test.shape[0] * 100\n",
    "\n",
    "print(f\"Accuracy: {accuracy}%\")"
   ]
  }
 ],
 "metadata": {
  "kernelspec": {
   "display_name": "env_idl",
   "language": "python",
   "name": "python3"
  },
  "language_info": {
   "codemirror_mode": {
    "name": "ipython",
    "version": 3
   },
   "file_extension": ".py",
   "mimetype": "text/x-python",
   "name": "python",
   "nbconvert_exporter": "python",
   "pygments_lexer": "ipython3",
   "version": "3.11.4"
  },
  "orig_nbformat": 4
 },
 "nbformat": 4,
 "nbformat_minor": 2
}
